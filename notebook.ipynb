{
 "cells": [
  {
   "cell_type": "markdown",
   "id": "09af234a-c418-4b45-b0c2-261b37252ebf",
   "metadata": {},
   "source": [
    "# 1. The Case for RDF: (Semantic) Data Interoperablity, Reasoning and Data Validation Based on Open Standards"
   ]
  },
  {
   "cell_type": "markdown",
   "id": "fd0477ba-1c02-43d4-af1e-84cbe25d8ed8",
   "metadata": {},
   "source": [
    "This presentation/notebook makes the case for RDF and demonstrates three capabilities that RDF can bring:\n",
    "\n",
    "- (Semantic) Data Interoperablity\n",
    "- Reasoning, and\n",
    "- Data Validation\n",
    "\n",
    "Note: There are more capabilities to highlights, such as (querying) federated data, URI dereferencing and enabling FAIR data. For more information, feel free to contact me!\n",
    "\n",
    "[amir.westhoff@capgemini.com](mailto:amir.westhoff@capgemini.com)"
   ]
  },
  {
   "cell_type": "markdown",
   "id": "3020e186-cacc-4bba-88e4-3bb84d03b19b",
   "metadata": {},
   "source": [
    "## 1.1. Data"
   ]
  },
  {
   "cell_type": "markdown",
   "id": "45a03a70-0317-4111-b3b8-01aae463e931",
   "metadata": {},
   "source": [
    "In the folder `assets`, there are three separate files with data in three different formats:\n",
    "- data.csv\n",
    "- data.json\n",
    "- data.xml\n",
    "\n",
    "We'll assume that they have been developed separately, based on different schemas. "
   ]
  },
  {
   "cell_type": "markdown",
   "id": "9a58d415-2065-4c06-9fd9-500820a0feed",
   "metadata": {},
   "source": [
    "## 1.2. Standards and Vocabularies: RDF, RDFS, OWL, SHACL"
   ]
  },
  {
   "cell_type": "markdown",
   "id": "c59215b8-d226-474b-a23b-189e69430d89",
   "metadata": {},
   "source": [
    "For reference, the (open) standards and vocabularies used further down in this notebook are the following:\n",
    "\n",
    "- RDF: [https://www.w3.org/TR/rdf11-concepts/](https://www.w3.org/TR/rdf11-concepts/)\n",
    "- RDFS: [https://www.w3.org/TR/rdf-schema/](https://www.w3.org/TR/rdf-schema/)\n",
    "- OWL: [https://www.w3.org/TR/owl2-syntax/](https://www.w3.org/TR/owl2-syntax/)\n",
    "- SHACL: [https://www.w3.org/TR/shacl/](https://www.w3.org/TR/shacl/)\n",
    "\n",
    "Click on the links for their specifications."
   ]
  },
  {
   "cell_type": "markdown",
   "id": "73151fef",
   "metadata": {},
   "source": [
    "## 1.3. First: RDF Basics"
   ]
  },
  {
   "cell_type": "code",
   "execution_count": 1,
   "id": "f65e6fa0",
   "metadata": {},
   "outputs": [],
   "source": [
    "from rdflib import Graph\n",
    "\n",
    "def parse_turtle_rdf(rdf_string: str):\n",
    "    \"\"\"Parses a string containing RDF in Turtle syntax.\"\"\"\n",
    "    graph = Graph()\n",
    "\n",
    "    try:\n",
    "        graph.parse(data=rdf_string, format=\"turtle\")\n",
    "        print(\"✅ RDF parsed successfully!\")\n",
    "        return graph\n",
    "    except Exception as e:\n",
    "        print(f\"❌ Failed to parse RDF: {e}\")\n",
    "\n",
    "def serialize_rdf(graph: Graph, format: str):\n",
    "    \"\"\"Serializes and prints an RDF graph in the specified format.\"\"\"\n",
    "    try:\n",
    "        rdf_data = graph.serialize(format=format)\n",
    "        print(format)\n",
    "        print(rdf_data)\n",
    "    except Exception as e:\n",
    "        print(f\"❌ Failed to serialize RDF: {e}\")\n"
   ]
  },
  {
   "cell_type": "markdown",
   "id": "69ac5ec3",
   "metadata": {},
   "source": [
    "Let's say you want to express that you work at Capgemini US:\n",
    "\n",
    "- your HTTP-URI is `http://capgemini.com/123`;\n",
    "- the HTTP-URI for Capgemini is `http://capgemini.com/capgemini-us`;\n",
    "- the HTTP-URI to signify the relationship between you and Capgemini is `http://capgemini.com/worksAt`\n",
    "- to add your name, you reuse a property from the FOAF vocabulary: `foaf:name`"
   ]
  },
  {
   "cell_type": "code",
   "execution_count": null,
   "id": "84b3b44a",
   "metadata": {},
   "outputs": [],
   "source": [
    "# Example usage\n",
    "\n",
    "rdf_string = \"\"\"\n",
    "\n",
    "prefix cap: <http://capgemini.com/>         # you can use prefixes to shorten URIs\n",
    "prefix foaf: <http://xmlns.com/foaf/0.1/>   # you can reuse classes and attributes from other vocabularies\n",
    "\n",
    "cap:123                                     # this syntax allows not having to repeat the subject\n",
    "    cap:worksAt cap:capgemini-us ;          # this triple expresses that you work at Capgemini US\n",
    "    foaf:name \"your-name-here\" .            # tris triple holds your name, reusing foaf:name \n",
    "\n",
    "\"\"\"\n",
    "\n",
    "rdf_graph = parse_turtle_rdf(rdf_string)"
   ]
  },
  {
   "cell_type": "markdown",
   "id": "b4aaa4b2",
   "metadata": {},
   "source": [
    "RDF has several serialization options:"
   ]
  },
  {
   "cell_type": "code",
   "execution_count": null,
   "id": "f5bee951",
   "metadata": {},
   "outputs": [],
   "source": [
    "# RDF/XML\n",
    "serialize_rdf(rdf_graph, \"xml\")\n"
   ]
  },
  {
   "cell_type": "code",
   "execution_count": null,
   "id": "f12d1ebc",
   "metadata": {},
   "outputs": [],
   "source": [
    "# JSON-LD\n",
    "serialize_rdf(rdf_graph, \"json-ld\")  # JSON-LD"
   ]
  },
  {
   "cell_type": "code",
   "execution_count": null,
   "id": "53c69572",
   "metadata": {},
   "outputs": [],
   "source": [
    "# NT\n",
    "serialize_rdf(rdf_graph, \"nt\") "
   ]
  },
  {
   "cell_type": "markdown",
   "id": "2ae37261-4993-4230-aea3-e1d55e02059f",
   "metadata": {},
   "source": [
    "# 2. (Semantic) Data Interoperablity"
   ]
  },
  {
   "cell_type": "markdown",
   "id": "b3bc0539-3fb8-480d-9d80-dbf9a5ad02c9",
   "metadata": {},
   "source": [
    "## 2.1. Transforming CSV"
   ]
  },
  {
   "cell_type": "code",
   "execution_count": null,
   "id": "19c71dd6-29eb-4d4f-b481-3eec995eb5ba",
   "metadata": {},
   "outputs": [],
   "source": [
    "# Transforming csv\n",
    "\n",
    "import pandas as pd\n",
    "from rdflib import Graph, Literal, RDF, URIRef, Namespace, FOAF\n",
    "\n",
    "# Define the CSV file path\n",
    "csv_file_path = './assets/data.csv'\n",
    "\n",
    "# Read the CSV file into a pandas DataFrame\n",
    "df = pd.read_csv(csv_file_path)\n",
    "\n",
    "# Create an RDF graph\n",
    "g = Graph()\n",
    "\n",
    "# Define a namespace\n",
    "EX = Namespace(\"http://example.org/\")\n",
    "SDO = Namespace(\"http://schema.org/\")\n",
    "\n",
    "# Bind namespaces to the graph\n",
    "g.bind(\"ex\", EX)\n",
    "g.bind(\"sdo\", SDO)\n",
    "\n",
    "# Loop through each row in the DataFrame\n",
    "for index, row in df.iterrows():\n",
    "    \n",
    "    # Check if the essential fields are filled before assignment\n",
    "    if pd.notna(row['id']) and pd.notna(row['FirstName']) and pd.notna(row['LastName']):\n",
    "        \n",
    "        # Extract values from the row\n",
    "        id = row['id']\n",
    "        name = f\"{row['FirstName']} {row['LastName']}\"\n",
    "        dob = row['DateOfBirth'] if pd.notna(row['DateOfBirth']) else None\n",
    "        home = row['ComesFrom'] if pd.notna(row['ComesFrom']) else None\n",
    "        instrument = row['Instrument'] if pd.notna(row['Instrument']) else None\n",
    "        \n",
    "        # Create RDF triples, adding only if fields are not None\n",
    "        subject = URIRef(f\"http://example.org/{id}\")\n",
    "        \n",
    "        if id:\n",
    "            g.add((subject, RDF.type, EX.Person))\n",
    "        if name:\n",
    "            g.add((subject, FOAF.name, Literal(name)))\n",
    "        if dob:\n",
    "            g.add((subject, SDO.birthDate, Literal(dob)))\n",
    "        if home:\n",
    "            g.add((subject, EX.home, Literal(home)))\n",
    "        if instrument:\n",
    "            g.add((subject, EX.playsInstrument, URIRef(f\"{EX}{instrument}\")))\n",
    "\n",
    "# Serialize the graph to an RDF file\n",
    "output_file = './assets/transformed_csv.ttl'\n",
    "g.serialize(destination=output_file, format='turtle')\n",
    "\n",
    "print(f\"Graph written to {output_file}\")\n",
    "\n"
   ]
  },
  {
   "cell_type": "markdown",
   "id": "113f9c45-d05c-4ac8-b52d-e523f7cd0798",
   "metadata": {},
   "source": [
    "## 2.2. Transforming JSON"
   ]
  },
  {
   "cell_type": "code",
   "execution_count": null,
   "id": "17aaf848-2981-40ec-91ca-d5559e76fdfb",
   "metadata": {
    "scrolled": true
   },
   "outputs": [],
   "source": [
    "# Transforming json\n",
    "\n",
    "import json\n",
    "from rdflib import Graph, Literal, RDF, URIRef, Namespace, FOAF\n",
    "\n",
    "# Parse the JSON data\n",
    "file_path = './assets/data.json'\n",
    "\n",
    "# Open the file and load the content\n",
    "with open(file_path, 'r') as f:\n",
    "    try:\n",
    "        json_data = json.load(f)  # Use json.load for reading directly from a file\n",
    "    except json.JSONDecodeError as e:\n",
    "        print(f\"Error decoding JSON: {e}\")\n",
    "\n",
    "# Create an RDF graph\n",
    "g = Graph()\n",
    "\n",
    "# Define a namespace\n",
    "EX = Namespace(\"http://example.org/\")\n",
    "SDO = Namespace(\"http://schema.org/\")\n",
    "\n",
    "# Bind namespaces to the graph\n",
    "g.bind(\"ex\", EX)\n",
    "g.bind(\"sdo\", SDO)\n",
    "\n",
    "# Iterate over each object in the JSON array\n",
    "for person in json_data:\n",
    "    \n",
    "    # Create a unique subject URI for each person based on their homepage\n",
    "    subject = URIRef(f\"{EX}{person['id']}\")\n",
    "    \n",
    "    if 'fullName' in person:\n",
    "        g.add((subject, FOAF.name, Literal(person['fullName'])))\n",
    "    if 'home' in person:\n",
    "        g.add((subject, EX.home, Literal(person['home'])))\n",
    "    if 'id':\n",
    "        g.add((subject, RDF.type, EX.Person))\n",
    "    if 'playsInstrument' in person:\n",
    "        g.add((subject, EX.playsInstrument, URIRef(f\"{EX}{person['playsInstrument']}\")))\n",
    "    if 'aka' in subject:\n",
    "        g.add((subject, FOAF.nick, Literal(person['aka'])))\n",
    "\n",
    "# Serialize the graph to an RDF/XML file\n",
    "output_file = './assets/transformed_json.ttl'\n",
    "g.serialize(destination=output_file, format='turtle')\n",
    "\n",
    "print(f\"Graph written to {output_file}\")"
   ]
  },
  {
   "cell_type": "markdown",
   "id": "19859c4a-5bbf-4bc7-9bb1-6ebcfd0ca4cf",
   "metadata": {},
   "source": [
    "## 2.3. Transforming XML"
   ]
  },
  {
   "cell_type": "code",
   "execution_count": null,
   "id": "c4cf3de5-0f9f-4f4c-aa47-6a32ee75f34d",
   "metadata": {},
   "outputs": [],
   "source": [
    "# Transforming xml\n",
    "\n",
    "from lxml import etree\n",
    "from rdflib import Graph, Literal, RDF, URIRef, Namespace\n",
    "\n",
    "# Load XML from a file\n",
    "tree = etree.parse('./assets/data.xml')\n",
    "root = tree.getroot()\n",
    "\n",
    "# Create an RDF graph\n",
    "g = Graph()\n",
    "\n",
    "# Define a namespace\n",
    "EX = Namespace(\"http://example.org/\")\n",
    "SDO = Namespace(\"http://schema.org/\")\n",
    "\n",
    "# Bind namespaces to the graph\n",
    "g.bind(\"ex\", EX)\n",
    "g.bind(\"sdo\", SDO)\n",
    "\n",
    "# Iterate over each person in the XML\n",
    "for person in root.findall('Person'):\n",
    "    # Extract fields from XML\n",
    "    id = person.find('id').text if person.find('id') is not None else None\n",
    "    full_name = person.find('FullName').text if person.find('FullName') is not None else None\n",
    "    alias = person.find('Alias').text if person.find('Alias') is not None else None\n",
    "    born_in = person.find('BornIn').text if person.find('BornIn') is not None else None\n",
    "    date_of_birth = person.find('DOB').text if person.find('DOB') is not None else None\n",
    "    address = person.find('Address').text if person.find('Address') is not None else None\n",
    "    phone = person.find('Phone').text if person.find('Phone') is not None else None\n",
    "    \n",
    "    # Check if essential fields are filled before creating RDF triples\n",
    "    if id and full_name:\n",
    "        \n",
    "        # Create RDF triples, adding only if fields are not None\n",
    "        subject = URIRef(f\"http://example.org/{id}\")\n",
    "        if id:\n",
    "            g.add((subject, RDF.type, EX.Person))\n",
    "        if full_name:\n",
    "            g.add((subject, FOAF.name, Literal(full_name)))\n",
    "        if alias:\n",
    "            g.add((subject, FOAF.nick, Literal(alias)))\n",
    "        if born_in:\n",
    "            g.add((subject, EX.home, Literal(born_in)))\n",
    "        if date_of_birth:\n",
    "            g.add((subject, SDO.birthDate, Literal(date_of_birth)))\n",
    "        if address:\n",
    "            g.add((subject, SDO.address, Literal(address)))\n",
    "        if phone:\n",
    "            g.add((subject, SDO.telephone, Literal(phone)))\n",
    "# Serialize the graph to an RDF/XML file\n",
    "output_file = './assets/transformed_xml.ttl'\n",
    "g.serialize(destination=output_file, format='turtle')\n",
    "\n",
    "print(f\"Graph written to {output_file}\")"
   ]
  },
  {
   "cell_type": "markdown",
   "id": "95e47ccd-4474-481b-924f-9de8e0c6d87b",
   "metadata": {},
   "source": [
    "## 2.4. Simulating and querying a SPARQL endpoint"
   ]
  },
  {
   "cell_type": "markdown",
   "id": "ab5f23db-7abd-4605-bd37-742033ecd4a6",
   "metadata": {},
   "source": [
    "### 2.4.1. Loading the RDF Data in a Combined Graph"
   ]
  },
  {
   "cell_type": "code",
   "execution_count": 9,
   "id": "14a66d5f-92f6-4dc2-9a21-32d27816ae5a",
   "metadata": {},
   "outputs": [],
   "source": [
    "# Loading RDF data into a Graph\n",
    "\n",
    "import rdflib\n",
    "\n",
    "combined_graph = rdflib.Graph()\n",
    "\n",
    "# List of turtle files\n",
    "turtle_files = [\n",
    "    \"./assets/transformed_csv.ttl\",\n",
    "    \"./assets/transformed_json.ttl\",\n",
    "    \"./assets/transformed_xml.ttl\"\n",
    "]\n",
    "\n",
    "# Load each TRIG file into the named graph\n",
    "for file in turtle_files:\n",
    "    g = rdflib.Graph()\n",
    "    g.parse(file, format=\"turtle\")\n",
    "    \n",
    "    # Add triples to combined graph\n",
    "    for s, p, o in g:\n",
    "        combined_graph.add((s, p, o))\n"
   ]
  },
  {
   "cell_type": "markdown",
   "id": "8356eefc-7709-4f9e-bf30-3ce8f539d5d6",
   "metadata": {},
   "source": [
    "### 2.4.2. Querying the Graph with SPARQL"
   ]
  },
  {
   "cell_type": "code",
   "execution_count": null,
   "id": "2855bca3-c156-41ab-9393-c9025a1cab1e",
   "metadata": {
    "scrolled": true
   },
   "outputs": [],
   "source": [
    "# Querying the Graph with SPARQL\n",
    "\n",
    "from IPython.display import display, HTML\n",
    "import pandas as pd\n",
    "\n",
    "# Define a simple SPARQL query\n",
    "query = \"\"\"\n",
    "PREFIX foaf: <http://xmlns.com/foaf/0.1/>\n",
    "PREFIX ex: <http://example.org/>\n",
    "PREFIX sdo: <http://schema.org/>\n",
    "\n",
    "SELECT ?person ?name ?nickname ?birthDate ?home ?instrument\n",
    "WHERE {\n",
    "    ?person a ex:Person  ;\n",
    "        foaf:name ?name ;\n",
    "        ex:home ?home .\n",
    "    OPTIONAL { ?person foaf:nick ?nickname }\n",
    "    OPTIONAL { ?person ex:playsInstrument ?instrument }\n",
    "    OPTIONAL { ?person sdo:birthDate ?birthDate }\n",
    "}\n",
    "\"\"\"\n",
    "\n",
    "# Execute the query\n",
    "results = combined_graph.query(query)\n",
    "\n",
    "# Convert the results to a Pandas DataFrame\n",
    "data = []\n",
    "for row in results:\n",
    "    data.append({str(var): str(row[var]) for var in row.labels})\n",
    "\n",
    "df = pd.DataFrame(data)\n",
    "\n",
    "# Display the DataFrame as an HTML table\n",
    "html_table = df.to_html()\n",
    "display(HTML(html_table))"
   ]
  },
  {
   "cell_type": "markdown",
   "id": "a6bebf1b-865c-4b60-acf3-cd3757df736b",
   "metadata": {},
   "source": [
    "# 3. Reasoning"
   ]
  },
  {
   "cell_type": "markdown",
   "id": "c27b25e3-7ea9-4a89-8a98-b85f6e3c809d",
   "metadata": {},
   "source": [
    "## 3.1. Loading a model/ontology"
   ]
  },
  {
   "cell_type": "code",
   "execution_count": null,
   "id": "fd2bf29d-9dff-4a65-b0cd-d27c0f2d441d",
   "metadata": {},
   "outputs": [],
   "source": [
    "# A simple ontology about persons and musicians\n",
    "\n",
    "ontology_data = \"\"\"\n",
    "# @prefix : <http://example.org/ontology#> .\n",
    "@prefix : <http://example.org/> .\n",
    "@prefix rdf: <http://www.w3.org/1999/02/22-rdf-syntax-ns#> .\n",
    "@prefix rdfs: <http://www.w3.org/2000/01/rdf-schema#> .\n",
    "@prefix owl: <http://www.w3.org/2002/07/owl#> .\n",
    "@prefix xsd: <http://www.w3.org/2001/XMLSchema#> .\n",
    "\n",
    "### Ontology header\n",
    "<http://example.org/>\n",
    "    rdf:type owl:Ontology ;\n",
    "    rdfs:comment \"A simple ontology about persons and musicians.\" .\n",
    "\n",
    "### Classes\n",
    ":Person rdf:type owl:Class ;\n",
    "        rdfs:label \"Person\" ;\n",
    "        rdfs:comment \"A class representing people.\" .\n",
    "\n",
    ":Musician rdf:type owl:Class ;\n",
    "          rdfs:subClassOf :Person ;\n",
    "          rdfs:label \"Musician\" ;\n",
    "          rdfs:comment \"A person who can play an instrument.\" .\n",
    "\n",
    ":Instrument rdf:type owl:Class ;\n",
    "            rdfs:label \"Instrument\" ;\n",
    "            rdfs:comment \"A class representing musical instruments.\" .\n",
    "\n",
    "### Properties\n",
    ":playsInstrument rdf:type owl:ObjectProperty ;\n",
    "                   rdfs:domain :Musician ;\n",
    "                   rdfs:range :Instrument ;\n",
    "                   rdfs:label \"can play instrument\" ;\n",
    "                   rdfs:comment \"A property indicating that a person who can play an instrument is a Musician.\" .\n",
    "\n",
    "\"\"\"\n",
    "\n",
    "# g.parse(data=ontology_data, format=\"turtle\")\n",
    "combined_graph.parse(data=ontology_data, format=\"turtle\")\n"
   ]
  },
  {
   "cell_type": "markdown",
   "id": "1c02a047-7fe4-47f8-bc3f-740d21d53bd3",
   "metadata": {},
   "source": [
    "## 3.2. Performing reasoning/inference"
   ]
  },
  {
   "cell_type": "code",
   "execution_count": null,
   "id": "b8e89ca1-b008-4d0e-b68e-97799b63690a",
   "metadata": {},
   "outputs": [],
   "source": [
    "import rdflib\n",
    "from owlrl import DeductiveClosure, OWLRL_Semantics\n",
    "\n",
    "# Apply OWL RL reasoning using owlrl\n",
    "# DeductiveClosure(OWLRL_Semantics).expand(g)\n",
    "DeductiveClosure(OWLRL_Semantics).expand(combined_graph)\n",
    "\n",
    "# Check the inferred facts re :Musician\n",
    "query = \"\"\"\n",
    "    PREFIX : <http://example.org/>\n",
    "    PREFIX foaf: <http://xmlns.com/foaf/0.1/>\n",
    "    SELECT ?person ?name\n",
    "    WHERE {\n",
    "        ?person rdf:type :Musician ;\n",
    "            foaf:name ?name .\n",
    "    }\n",
    "\"\"\"\n",
    "# result = g.query(query)\n",
    "result = combined_graph.query(query)\n",
    "\n",
    "# Output the results\n",
    "print(\"Inferred Musicians:\\n\")\n",
    "for row in result:\n",
    "    print(row[1])\n"
   ]
  },
  {
   "cell_type": "markdown",
   "id": "1ef6c823-2a9e-4ad6-9d82-ba371dfe28ae",
   "metadata": {},
   "source": [
    "# 4. Data Validation"
   ]
  },
  {
   "cell_type": "markdown",
   "id": "7c124f1d-6441-481d-953f-46de4718b8ad",
   "metadata": {},
   "source": [
    "## 4.1. Defining SHACL shapes"
   ]
  },
  {
   "cell_type": "code",
   "execution_count": 13,
   "id": "bc334455-96b7-4066-8f3a-d98af72383cb",
   "metadata": {},
   "outputs": [],
   "source": [
    "# Defining SHACL shapes\n",
    "\n",
    "shapes_data = \"\"\"\n",
    "@prefix : <http://example.org/> .\n",
    "@prefix rdf: <http://www.w3.org/1999/02/22-rdf-syntax-ns#> .\n",
    "@prefix sdo: <http://schema.org/> .\n",
    "@prefix sh: <http://www.w3.org/ns/shacl#> .\n",
    "@prefix xsd: <http://www.w3.org/2001/XMLSchema#> .\n",
    "\n",
    "# Shape to validate Persons \n",
    ":PersonShape\n",
    "    rdf:type sh:NodeShape ;\n",
    "    sh:targetClass :Person ;\n",
    "    sh:property [\n",
    "        sh:path sdo:birthDate ;\n",
    "        sh:minCount 1 ;\n",
    "        sh:message \"Every Person should have a date of birth.\" ;\n",
    "    ] .\n",
    "\"\"\""
   ]
  },
  {
   "cell_type": "markdown",
   "id": "fedd4b32-90e6-4df8-8181-8167549786b8",
   "metadata": {},
   "source": [
    "## 4.2. Performing RDF Data Validation"
   ]
  },
  {
   "cell_type": "code",
   "execution_count": null,
   "id": "320c5361-6d2e-4717-baed-37c815908bcf",
   "metadata": {},
   "outputs": [],
   "source": [
    "import rdflib\n",
    "from pyshacl import validate\n",
    "\n",
    "# Step 1: Load the ontology and the shapes into rdflib graphs\n",
    "# g = rdflib.Graph()\n",
    "# g.parse(data=ontology_data, format=\"turtle\")\n",
    "\n",
    "shapes_g = rdflib.Graph()\n",
    "shapes_g.parse(data=shapes_data, format=\"turtle\")\n",
    "\n",
    "# Step 2: Validate the graph against the SHACL shapes\n",
    "conforms, results_graph, results_text = validate(combined_graph, shacl_graph=shapes_g, data_graph_format=\"turtle\", shacl_graph_format=\"turtle\")\n",
    "\n",
    "# Step 3: Output the validation results\n",
    "print(results_text)"
   ]
  },
  {
   "cell_type": "code",
   "execution_count": null,
   "id": "e1be170e-ad4c-41e9-9979-d59145405904",
   "metadata": {},
   "outputs": [],
   "source": []
  }
 ],
 "metadata": {
  "kernelspec": {
   "display_name": "Python 3",
   "language": "python",
   "name": "python3"
  },
  "language_info": {
   "codemirror_mode": {
    "name": "ipython",
    "version": 3
   },
   "file_extension": ".py",
   "mimetype": "text/x-python",
   "name": "python",
   "nbconvert_exporter": "python",
   "pygments_lexer": "ipython3",
   "version": "3.10.2"
  }
 },
 "nbformat": 4,
 "nbformat_minor": 5
}
